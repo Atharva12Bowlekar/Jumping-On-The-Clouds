{
 "cells": [
  {
   "cell_type": "code",
   "execution_count": 18,
   "metadata": {},
   "outputs": [],
   "source": [
    "def jumpingOnClouds(c):\n",
    "    n=len(c)\n",
    "    i=0\n",
    "    count=0\n",
    "    while(n!=1):\n",
    "        if(n>2 and c[i+2]==0):\n",
    "            n=n-2\n",
    "            i=i+2\n",
    "            count=count+1\n",
    "        else:\n",
    "            n=n-1\n",
    "            i=i+1\n",
    "            count=count+1\n",
    "    return count\n",
    "        "
   ]
  },
  {
   "cell_type": "code",
   "execution_count": 20,
   "metadata": {},
   "outputs": [
    {
     "data": {
      "text/plain": [
       "4"
      ]
     },
     "execution_count": 20,
     "metadata": {},
     "output_type": "execute_result"
    }
   ],
   "source": [
    "jumpingOnClouds([0,0,1,0,0,1,0])"
   ]
  }
 ],
 "metadata": {
  "kernelspec": {
   "display_name": "Python 3",
   "language": "python",
   "name": "python3"
  },
  "language_info": {
   "codemirror_mode": {
    "name": "ipython",
    "version": 3
   },
   "file_extension": ".py",
   "mimetype": "text/x-python",
   "name": "python",
   "nbconvert_exporter": "python",
   "pygments_lexer": "ipython3",
   "version": "3.8.3"
  }
 },
 "nbformat": 4,
 "nbformat_minor": 4
}
